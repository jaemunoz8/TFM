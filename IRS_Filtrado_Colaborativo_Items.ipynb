{
 "cells": [
  {
   "cell_type": "code",
   "execution_count": 1,
   "metadata": {},
   "outputs": [],
   "source": [
    "import pandas as pd\n",
    "import numpy as np\n",
    "from sklearn.metrics.pairwise import cosine_similarity\n",
    "from sklearn.feature_extraction.text import TfidfVectorizer\n",
    "from sklearn.model_selection import train_test_split\n",
    "#pip install pandas openpyxl "
   ]
  },
  {
   "cell_type": "code",
   "execution_count": 2,
   "metadata": {},
   "outputs": [
    {
     "name": "stderr",
     "output_type": "stream",
     "text": [
      "C:\\Users\\jaemu\\AppData\\Local\\Temp\\ipykernel_30336\\733227920.py:4: DtypeWarning: Columns (21,25,26,39,50) have mixed types. Specify dtype option on import or set low_memory=False.\n",
      "  df = pd.read_csv(ruta_archivo,sep=';')\n"
     ]
    },
    {
     "name": "stdout",
     "output_type": "stream",
     "text": [
      "(3991497, 123)\n"
     ]
    }
   ],
   "source": [
    "# ruta_archivo = \"C:/Users/jaemu/OneDrive - UNIR/DatosTFM/Datos completos/Datos_completos.csv\"\n",
    "\n",
    "# # Usamos pd.read_excel para leer el archivo\n",
    "# df = pd.read_csv(ruta_archivo,sep=';')\n",
    "\n",
    "# print(df.shape)"
   ]
  },
  {
   "cell_type": "code",
   "execution_count": 3,
   "metadata": {},
   "outputs": [
    {
     "data": {
      "text/plain": [
       "(3573594, 123)"
      ]
     },
     "execution_count": 3,
     "metadata": {},
     "output_type": "execute_result"
    }
   ],
   "source": [
    "# #Quitar el usuario CONSUMIDOR FINAL con IdUser 2222222222222222. Porque genera similitudes erróneas entre productos adquiridos, y corresponden realmente a usuarios que decidieron no entregar su identificación.\n",
    "# df_limpio = df[df['NombreUser'] != 'CONSUMIDOR FINAL']\n",
    "# #Dejar sólo personas naturales en la compra\n",
    "# df_limpio = df_limpio[df_limpio['CodigoNaturaleza'] == 2]\n",
    "# df_limpio.shape\n"
   ]
  },
  {
   "cell_type": "code",
   "execution_count": 4,
   "metadata": {},
   "outputs": [],
   "source": [
    "# # Usar el mismo dataframe para calcular proporciones y muestrear\n",
    "# conteo_por_fecha = df_limpio['FechaVenta'].value_counts()\n",
    "\n",
    "# # Calcular proporciones\n",
    "# total_registros = len(df_limpio)\n",
    "# proporciones = conteo_por_fecha / total_registros\n",
    "\n",
    "# # Calcular cantidad de registros por fecha para 80,000\n",
    "# muestra_por_fecha = (proporciones * 50000).round().astype(int)\n",
    "\n",
    "# # Asegurar que todas las fechas de df están en muestra_por_fecha\n",
    "# muestra_por_fecha = muestra_por_fecha.reindex(df_limpio['FechaVenta'].unique(), fill_value=0)\n",
    "\n",
    "# # Crear una muestra estratificada\n",
    "# muestra = df_limpio.groupby('FechaVenta').apply(\n",
    "#     lambda x: x.sample(n=int(muestra_por_fecha.loc[x.name]))\n",
    "# ).reset_index(drop=True)\n",
    "\n",
    "# # Guardar el subset en un nuevo archivo\n",
    "# muestra.to_csv('C:/Users/jaemu/Documents/_DatosTFM/muestra_50k.csv', index=False)\n"
   ]
  },
  {
   "cell_type": "code",
   "execution_count": 5,
   "metadata": {},
   "outputs": [
    {
     "name": "stderr",
     "output_type": "stream",
     "text": [
      "C:\\Users\\jaemu\\AppData\\Local\\Temp\\ipykernel_30336\\2097129638.py:1: DtypeWarning: Columns (25,39) have mixed types. Specify dtype option on import or set low_memory=False.\n",
      "  df = pd.read_csv('C:/Users/jaemu/Documents/_DatosTFM/muestra_50k.csv')\n"
     ]
    },
    {
     "name": "stdout",
     "output_type": "stream",
     "text": [
      "(19896, 123)\n"
     ]
    }
   ],
   "source": [
    "# df = pd.read_csv('C:/Users/jaemu/Documents/_DatosTFM/muestra_50k.csv')\n",
    "# print(df.shape)"
   ]
  },
  {
   "cell_type": "code",
   "execution_count": 6,
   "metadata": {},
   "outputs": [
    {
     "name": "stdout",
     "output_type": "stream",
     "text": [
      "(19896, 18)\n"
     ]
    },
    {
     "name": "stderr",
     "output_type": "stream",
     "text": [
      "C:\\Users\\jaemu\\AppData\\Local\\Temp\\ipykernel_30336\\3340018269.py:13: SettingWithCopyWarning: \n",
      "A value is trying to be set on a copy of a slice from a DataFrame.\n",
      "Try using .loc[row_indexer,col_indexer] = value instead\n",
      "\n",
      "See the caveats in the documentation: https://pandas.pydata.org/pandas-docs/stable/user_guide/indexing.html#returning-a-view-versus-a-copy\n",
      "  df_filtrado['FechaVenta'] = pd.to_datetime(df_filtrado['FechaVenta'])\n",
      "C:\\Users\\jaemu\\AppData\\Local\\Temp\\ipykernel_30336\\3340018269.py:15: SettingWithCopyWarning: \n",
      "A value is trying to be set on a copy of a slice from a DataFrame.\n",
      "Try using .loc[row_indexer,col_indexer] = value instead\n",
      "\n",
      "See the caveats in the documentation: https://pandas.pydata.org/pandas-docs/stable/user_guide/indexing.html#returning-a-view-versus-a-copy\n",
      "  df_filtrado['FechaVenta'] = df_filtrado['FechaVenta'].dt.date\n"
     ]
    }
   ],
   "source": [
    "# # Lista de columnas que quieres conservar\n",
    "# columnas_a_conservar = [\n",
    "#     'NumeroFactura', 'FechaVenta', 'Precio', 'Cantidad', 'ReferenciaProducto', 'CodigoMarca',\n",
    "#     'IdUser', 'PaisUser', 'DepartamentoUser', 'MunicipioUser', 'MedioPago', \n",
    "#     'Talla', 'Color', 'Fabricante', 'ClaseProducto', 'NombreTienda', 'DepartamentoTienda', \n",
    "#     'CiudadTienda'\n",
    "# ]\n",
    "\n",
    "# # Filtrar el DataFrame conservando solo esas columnas\n",
    "# df_filtrado = df[columnas_a_conservar]\n",
    "\n",
    "# # Convertir la columna FechaVenta a tipo datetime\n",
    "# df_filtrado['FechaVenta'] = pd.to_datetime(df_filtrado['FechaVenta'])\n",
    "# # Extraer solo la fecha\n",
    "# df_filtrado['FechaVenta'] = df_filtrado['FechaVenta'].dt.date\n",
    "\n",
    "# print(df_filtrado.shape)\n",
    "# RutaSalida = \"C:/Users/jaemu/Documents/_DatosTFM/DatosLimpiosJ.csv\"\n",
    "# df_filtrado.to_csv(RutaSalida, index=False)\n"
   ]
  },
  {
   "cell_type": "code",
   "execution_count": 7,
   "metadata": {},
   "outputs": [
    {
     "name": "stdout",
     "output_type": "stream",
     "text": [
      "               Columna  Porcentaje de Completitud (%)\n",
      "0        NumeroFactura                     100.000000\n",
      "1           FechaVenta                     100.000000\n",
      "2               Precio                     100.000000\n",
      "3             Cantidad                     100.000000\n",
      "4   ReferenciaProducto                     100.000000\n",
      "5          CodigoMarca                     100.000000\n",
      "6               IdUser                     100.000000\n",
      "7             PaisUser                       8.147366\n",
      "8     DepartamentoUser                       8.147366\n",
      "9        MunicipioUser                       8.147366\n",
      "10           MedioPago                     100.000000\n",
      "11               Talla                     100.000000\n",
      "12               Color                     100.000000\n",
      "13          Fabricante                     100.000000\n",
      "14       ClaseProducto                     100.000000\n",
      "15        NombreTienda                     100.000000\n",
      "16  DepartamentoTienda                     100.000000\n",
      "17        CiudadTienda                     100.000000\n"
     ]
    }
   ],
   "source": [
    "# # Calcular el porcentaje de completitud para cada columna\n",
    "# completitud = df_filtrado.notnull().mean() * 100  # Porcentaje de valores no nulos\n",
    "\n",
    "# # Mostrar los resultados\n",
    "# completitud_df = completitud.reset_index()\n",
    "# completitud_df.columns = ['Columna', 'Porcentaje de Completitud (%)']\n",
    "# print(completitud_df)\n"
   ]
  },
  {
   "cell_type": "code",
   "execution_count": 8,
   "metadata": {},
   "outputs": [
    {
     "data": {
      "text/plain": [
       "(19896, 15)"
      ]
     },
     "execution_count": 8,
     "metadata": {},
     "output_type": "execute_result"
    }
   ],
   "source": [
    "# #Nuevo filtro de datos según completitud\n",
    "# columnas_a_conservar2 = [\n",
    "#     'NumeroFactura', 'FechaVenta', 'Precio', 'Cantidad', 'ReferenciaProducto', 'CodigoMarca',\n",
    "#     'IdUser', 'MedioPago', 'Talla', 'Color', 'Fabricante', 'ClaseProducto', 'NombreTienda', 'DepartamentoTienda', \n",
    "#     'CiudadTienda'\n",
    "# ]\n",
    "\n",
    "# # Filtrar el DataFrame conservando solo esas columnas\n",
    "# df_filtrado2 = df_filtrado[columnas_a_conservar2]\n",
    "# df_filtrado2.shape"
   ]
  },
  {
   "cell_type": "code",
   "execution_count": 9,
   "metadata": {},
   "outputs": [
    {
     "name": "stdout",
     "output_type": "stream",
     "text": [
      "         nombreColumna  valoresUnicos\n",
      "0        NumeroFactura          12651\n",
      "1           FechaVenta            293\n",
      "2               Precio            288\n",
      "3             Cantidad             11\n",
      "4   ReferenciaProducto           1168\n",
      "5          CodigoMarca             67\n",
      "6               IdUser          19570\n",
      "7            MedioPago              6\n",
      "8                Talla             62\n",
      "9                Color           1366\n",
      "10          Fabricante             51\n",
      "11       ClaseProducto             27\n",
      "12        NombreTienda            112\n",
      "13  DepartamentoTienda             18\n",
      "14        CiudadTienda             49\n"
     ]
    }
   ],
   "source": [
    "# #Ahora se revisa cuántos valores únicos tiene cada columna\n",
    "# # Extraer valores únicos para cada columna\n",
    "# valores_unicos = {columna: df_filtrado2[columna].unique() for columna in columnas_a_conservar2}\n",
    "\n",
    "# # Calcular el número de valores únicos y convertirlos a un DataFrame\n",
    "# DatosUnicos = pd.DataFrame({\n",
    "#     \"nombreColumna\": columnas_a_conservar2,\n",
    "#     \"valoresUnicos\": [df_filtrado2[col].nunique() for col in columnas_a_conservar2]\n",
    "# })\n",
    "\n",
    "# # Mostrar los resultados como tabla\n",
    "# print(DatosUnicos)"
   ]
  },
  {
   "cell_type": "code",
   "execution_count": 10,
   "metadata": {},
   "outputs": [
    {
     "data": {
      "text/plain": [
       "(19896, 15)"
      ]
     },
     "execution_count": 10,
     "metadata": {},
     "output_type": "execute_result"
    }
   ],
   "source": [
    "# # Anonimización de datos\n",
    "# datos_anonimizados = df_filtrado2.copy()#.head(3000)\n",
    "# # Anonimizar NumeroFactura \n",
    "# factUnicas = {fact_Unicas: f\"fact{i+1}\" for i, fact_Unicas in enumerate(datos_anonimizados['NumeroFactura'].unique())}\n",
    "# datos_anonimizados['NumeroFactura'] = datos_anonimizados['NumeroFactura'].map(factUnicas)\n",
    "\n",
    "# # Anonimizar ReferenciaProducto con etiquetas únicas (ref1, ref2, ...)\n",
    "# referencias_unicas = {ref: f\"ref{i+1}\" for i, ref in enumerate(datos_anonimizados['ReferenciaProducto'].unique())}\n",
    "# datos_anonimizados['ReferenciaProducto'] = datos_anonimizados['ReferenciaProducto'].map(referencias_unicas)\n",
    "\n",
    "# # Anonimizar CodigoMarca con etiquetas únicas (marca1, marca2, ...)\n",
    "# codigos_marca_unicos = {marca: f\"marca{i+1}\" for i, marca in enumerate(datos_anonimizados['CodigoMarca'].unique())}\n",
    "# datos_anonimizados['CodigoMarca'] = datos_anonimizados['CodigoMarca'].map(codigos_marca_unicos)\n",
    "\n",
    "# # Anonimizar IdUser con etiquetas únicas (id1, id2, ...)\n",
    "# ids_unicos = {id_user: f\"id{i+1}\" for i, id_user in enumerate(datos_anonimizados['IdUser'].unique())}\n",
    "# datos_anonimizados['IdUser'] = datos_anonimizados['IdUser'].map(ids_unicos)\n",
    "\n",
    "# # Anonimizar Fabricante con etiquetas únicas (fabricante1, fabricante2, ...)\n",
    "# fabricantes_unicos = {fabricante: f\"fabricante{i+1}\" for i, fabricante in enumerate(datos_anonimizados['Fabricante'].unique())}\n",
    "# datos_anonimizados['Fabricante'] = datos_anonimizados['Fabricante'].map(fabricantes_unicos)\n",
    "\n",
    "# # Anonimizar NombreTienda con etiquetas únicas (tienda1, tienda2, ...)\n",
    "# nombres_tienda_unicos = {tienda: f\"tienda{i+1}\" for i, tienda in enumerate(datos_anonimizados['NombreTienda'].unique())}\n",
    "# datos_anonimizados['NombreTienda'] = datos_anonimizados['NombreTienda'].map(nombres_tienda_unicos)\n",
    "\n",
    "# # Anonimizar Color con etiquetas únicas (color1, color2, ...)\n",
    "# colores_unicos = {color: f\"color{i+1}\" for i, color in enumerate(datos_anonimizados['Color'].unique())}\n",
    "# datos_anonimizados['Color'] = datos_anonimizados['Color'].map(colores_unicos)\n",
    "\n",
    "# # Anonimizar Talla con etiquetas únicas (talla1, talla2, ...)\n",
    "# tallas_unicas = {talla: f\"talla{i+1}\" for i, talla in enumerate(datos_anonimizados['Talla'].unique())}\n",
    "# datos_anonimizados['Talla'] = datos_anonimizados['Talla'].map(tallas_unicas)\n",
    "\n",
    "# # Anonimizar ClaseProducto con etiquetas únicas (claseprod1, ...)\n",
    "# claseprod_unicos = {talla: f\"claseprod{i+1}\" for i, talla in enumerate(datos_anonimizados['ClaseProducto'].unique())}\n",
    "# datos_anonimizados['ClaseProducto'] = datos_anonimizados['ClaseProducto'].map(claseprod_unicos)\n",
    "\n",
    "# # Guardar el resultado en un nuevo archivo CSV\n",
    "# RutaSalida2 = \"C:/Users/jaemu/Documents/_DatosTFM/DatosLimpiosAnonimizados.csv\"\n",
    "# datos_anonimizados.to_csv(RutaSalida2, index=False)\n",
    "\n",
    "# datos_anonimizados.shape\n",
    "\n"
   ]
  },
  {
   "cell_type": "code",
   "execution_count": 11,
   "metadata": {},
   "outputs": [
    {
     "name": "stdout",
     "output_type": "stream",
     "text": [
      "         nombreColumna  valoresUnicos\n",
      "0        NumeroFactura          12651\n",
      "1           FechaVenta            293\n",
      "2               Precio            288\n",
      "3             Cantidad             11\n",
      "4   ReferenciaProducto           1168\n",
      "5          CodigoMarca             67\n",
      "6               IdUser          19570\n",
      "7            MedioPago              6\n",
      "8                Talla             62\n",
      "9                Color           1366\n",
      "10          Fabricante             51\n",
      "11       ClaseProducto             27\n",
      "12        NombreTienda            112\n",
      "13  DepartamentoTienda             18\n",
      "14        CiudadTienda             49\n"
     ]
    }
   ],
   "source": [
    "# #Ahora se revisa cuántos valores únicos tiene cada columna para comprobar que la anonimización no haya generado diferencias en la bd\n",
    "# # Extraer valores únicos para cada columna\n",
    "# valores_unicos = {columna: datos_anonimizados[columna].unique() for columna in columnas_a_conservar2}\n",
    "\n",
    "# # Calcular el número de valores únicos y convertirlos a un DataFrame\n",
    "# DatosUnicos = pd.DataFrame({\n",
    "#     \"nombreColumna\": columnas_a_conservar2,\n",
    "#     \"valoresUnicos\": [datos_anonimizados[col].nunique() for col in columnas_a_conservar2]\n",
    "# })\n",
    "\n",
    "# # Mostrar los resultados como tabla\n",
    "# print(DatosUnicos)"
   ]
  },
  {
   "cell_type": "code",
   "execution_count": 3,
   "metadata": {},
   "outputs": [
    {
     "name": "stdout",
     "output_type": "stream",
     "text": [
      "  NumeroFactura  FechaVenta    Precio  Cantidad ReferenciaProducto  \\\n",
      "0         fact1  2024-01-02  50411.76       1.0               ref1   \n",
      "1         fact2  2024-01-02  17638.66       1.0               ref2   \n",
      "2         fact3  2024-01-02      0.00       1.0               ref3   \n",
      "3         fact4  2024-01-02   8394.96       1.0               ref4   \n",
      "4         fact5  2024-01-02  33605.04       1.0               ref5   \n",
      "\n",
      "  CodigoMarca IdUser          MedioPago   Talla   Color   Fabricante  \\\n",
      "0      marca1    id1  TARJETA DE DEBITO  talla1  color1  fabricante1   \n",
      "1      marca2    id2           EFECTIVO  talla2  color2  fabricante1   \n",
      "2      marca2    id3  TARJETA DE DEBITO  talla2  color3  fabricante1   \n",
      "3      marca1    id4  TARJETA DE DEBITO  talla2  color4  fabricante2   \n",
      "4      marca2    id5  TARJETA DE DEBITO  talla3  color5  fabricante1   \n",
      "\n",
      "  ClaseProducto NombreTienda DepartamentoTienda  CiudadTienda  \n",
      "0    claseprod1      tienda1    VALLE DEL CAUCA          CALI  \n",
      "1    claseprod2      tienda2        BOGOTÁ D.C.   BOGOTÁ D.C.  \n",
      "2    claseprod3      tienda3          ATLÁNTICO  BARRANQUILLA  \n",
      "3    claseprod4      tienda4    VALLE DEL CAUCA         TULUÁ  \n",
      "4    claseprod3      tienda5          ANTIOQUIA      MEDELLÍN  \n"
     ]
    }
   ],
   "source": [
    "url = \"https://raw.githubusercontent.com/jaemunoz8/TFM/refs/heads/main/DatosLimpiosAnonimizados.csv\"\n",
    "# Cargar el archivo como un DataFrame\n",
    "datos_anonimizados = pd.read_csv(url)\n",
    "\n",
    "# Mostrar las primeras filas del DataFrame\n",
    "print(datos_anonimizados.head())"
   ]
  },
  {
   "cell_type": "code",
   "execution_count": 4,
   "metadata": {},
   "outputs": [
    {
     "name": "stdout",
     "output_type": "stream",
     "text": [
      "0    marca1 color1 claseprod1 fabricante1\n",
      "1    marca2 color2 claseprod2 fabricante1\n",
      "2    marca2 color3 claseprod3 fabricante1\n",
      "3    marca1 color4 claseprod4 fabricante2\n",
      "4    marca2 color5 claseprod3 fabricante1\n",
      "Name: caracteristicas, dtype: object\n",
      "(19896, 6)\n"
     ]
    },
    {
     "name": "stderr",
     "output_type": "stream",
     "text": [
      "C:\\Users\\jaemu\\AppData\\Local\\Temp\\ipykernel_1604\\3033102278.py:6: SettingWithCopyWarning: \n",
      "A value is trying to be set on a copy of a slice from a DataFrame.\n",
      "Try using .loc[row_indexer,col_indexer] = value instead\n",
      "\n",
      "See the caveats in the documentation: https://pandas.pydata.org/pandas-docs/stable/user_guide/indexing.html#returning-a-view-versus-a-copy\n",
      "  productos['caracteristicas'] = (\n"
     ]
    }
   ],
   "source": [
    "#IRS BASADO EN ÍTEMS\n",
    "# Seleccionar columnas relevantes para describir los productos\n",
    "productos = datos_anonimizados[['ReferenciaProducto', 'CodigoMarca', 'Color', 'ClaseProducto', 'Fabricante']]\n",
    "\n",
    "# Concatenar todas las características en un texto para cada producto creando una nueva columna en el df productos\n",
    "productos['caracteristicas'] = (\n",
    "    productos['CodigoMarca'].fillna('') + ' ' +\n",
    "    productos['Color'].fillna('') + ' ' +\n",
    "    productos['ClaseProducto'].fillna('') + ' ' +\n",
    "    productos['Fabricante'].fillna('')\n",
    ")\n",
    "\n",
    "print(productos['caracteristicas'].head())\n",
    "print(productos.shape)\n"
   ]
  },
  {
   "cell_type": "code",
   "execution_count": 5,
   "metadata": {},
   "outputs": [
    {
     "name": "stdout",
     "output_type": "stream",
     "text": [
      "                                                   0\n",
      "0    (0, 1444)\\t0.44747980710877877\\n  (0, 27)\\t0...\n",
      "1    (0, 1393)\\t0.12394613864856978\\n  (0, 1455)\\...\n",
      "2    (0, 1393)\\t0.1707252728021752\\n  (0, 1455)\\t...\n",
      "3    (0, 1444)\\t0.20466409848160078\\n  (0, 727)\\t...\n",
      "4    (0, 1393)\\t0.21347319777838328\\n  (0, 1455)\\...\n"
     ]
    },
    {
     "data": {
      "text/plain": [
       "(19896, 1511)"
      ]
     },
     "execution_count": 5,
     "metadata": {},
     "output_type": "execute_result"
    }
   ],
   "source": [
    "# Vectorizar las características usando TF-IDF\n",
    "vectorizador = TfidfVectorizer()\n",
    "matriz_vectores = vectorizador.fit_transform(productos['caracteristicas'])\n",
    "print(pd.DataFrame(matriz_vectores).head(5))\n",
    "matriz_vectores.shape"
   ]
  },
  {
   "cell_type": "code",
   "execution_count": 6,
   "metadata": {},
   "outputs": [],
   "source": [
    "# Calcular la similitud entre productos\n",
    "similitud = cosine_similarity(matriz_vectores)\n",
    "#similitud.shape"
   ]
  },
  {
   "cell_type": "code",
   "execution_count": 7,
   "metadata": {},
   "outputs": [
    {
     "name": "stdout",
     "output_type": "stream",
     "text": [
      "Productos recomendados para el producto: ref20\n"
     ]
    },
    {
     "data": {
      "text/html": [
       "<div>\n",
       "<style scoped>\n",
       "    .dataframe tbody tr th:only-of-type {\n",
       "        vertical-align: middle;\n",
       "    }\n",
       "\n",
       "    .dataframe tbody tr th {\n",
       "        vertical-align: top;\n",
       "    }\n",
       "\n",
       "    .dataframe thead th {\n",
       "        text-align: right;\n",
       "    }\n",
       "</style>\n",
       "<table border=\"1\" class=\"dataframe\">\n",
       "  <thead>\n",
       "    <tr style=\"text-align: right;\">\n",
       "      <th></th>\n",
       "      <th>ReferenciaProducto</th>\n",
       "      <th>Color</th>\n",
       "      <th>CodigoMarca</th>\n",
       "      <th>ClaseProducto</th>\n",
       "      <th>Fabricante</th>\n",
       "    </tr>\n",
       "  </thead>\n",
       "  <tbody>\n",
       "    <tr>\n",
       "      <th>6822</th>\n",
       "      <td>ref20</td>\n",
       "      <td>color10</td>\n",
       "      <td>marca3</td>\n",
       "      <td>claseprod6</td>\n",
       "      <td>fabricante1</td>\n",
       "    </tr>\n",
       "    <tr>\n",
       "      <th>2640</th>\n",
       "      <td>ref11</td>\n",
       "      <td>color10</td>\n",
       "      <td>marca3</td>\n",
       "      <td>claseprod6</td>\n",
       "      <td>fabricante1</td>\n",
       "    </tr>\n",
       "    <tr>\n",
       "      <th>1085</th>\n",
       "      <td>ref20</td>\n",
       "      <td>color10</td>\n",
       "      <td>marca3</td>\n",
       "      <td>claseprod6</td>\n",
       "      <td>fabricante1</td>\n",
       "    </tr>\n",
       "    <tr>\n",
       "      <th>1083</th>\n",
       "      <td>ref20</td>\n",
       "      <td>color10</td>\n",
       "      <td>marca3</td>\n",
       "      <td>claseprod6</td>\n",
       "      <td>fabricante1</td>\n",
       "    </tr>\n",
       "    <tr>\n",
       "      <th>11185</th>\n",
       "      <td>ref98</td>\n",
       "      <td>color10</td>\n",
       "      <td>marca3</td>\n",
       "      <td>claseprod6</td>\n",
       "      <td>fabricante1</td>\n",
       "    </tr>\n",
       "  </tbody>\n",
       "</table>\n",
       "</div>"
      ],
      "text/plain": [
       "      ReferenciaProducto    Color CodigoMarca ClaseProducto   Fabricante\n",
       "6822               ref20  color10      marca3    claseprod6  fabricante1\n",
       "2640               ref11  color10      marca3    claseprod6  fabricante1\n",
       "1085               ref20  color10      marca3    claseprod6  fabricante1\n",
       "1083               ref20  color10      marca3    claseprod6  fabricante1\n",
       "11185              ref98  color10      marca3    claseprod6  fabricante1"
      ]
     },
     "execution_count": 7,
     "metadata": {},
     "output_type": "execute_result"
    }
   ],
   "source": [
    "# Función para recomendar productos similares\n",
    "def recomendar_producto(referencia_producto, similitud, productos, top_n=5):\n",
    "    idx_producto = productos[productos['ReferenciaProducto'] == referencia_producto].index[0]\n",
    "    indices_similares = similitud[idx_producto].argsort()[-top_n-1:-1][::-1]\n",
    "    productos_recomendados = productos.iloc[indices_similares]\n",
    "    return productos_recomendados, idx_producto, indices_similares\n",
    "\n",
    "# Ejemplo de recomendación\n",
    "referencia_ejemplo = 'ref20'  \n",
    "recomendaciones, ind, indSimilares = recomendar_producto(referencia_ejemplo, similitud, productos)\n",
    "print(\"Productos recomendados para el producto:\", referencia_ejemplo)\n",
    "recomendaciones[['ReferenciaProducto','Color','CodigoMarca','ClaseProducto','Fabricante']]\n",
    "\n",
    "#print(ind) #Muestra el índice de la referencia seleccionada"
   ]
  },
  {
   "cell_type": "code",
   "execution_count": 8,
   "metadata": {},
   "outputs": [
    {
     "data": {
      "text/plain": [
       "array([ 6822,  2640,  1085,  1083, 11185], dtype=int64)"
      ]
     },
     "execution_count": 8,
     "metadata": {},
     "output_type": "execute_result"
    }
   ],
   "source": [
    "indSimilares"
   ]
  },
  {
   "cell_type": "code",
   "execution_count": 9,
   "metadata": {},
   "outputs": [],
   "source": [
    "from sklearn.model_selection import train_test_split\n",
    "\n",
    "# Crear un conjunto de prueba y entrenamiento\n",
    "train, test = train_test_split(productos, test_size=0.2, random_state=42)\n"
   ]
  },
  {
   "cell_type": "code",
   "execution_count": 10,
   "metadata": {},
   "outputs": [],
   "source": [
    "def precision_recall(referencia_producto, similitud, productos, test_set, top_n=5):\n",
    "    \"\"\"\n",
    "    Calcula precisión y recall para un producto.\n",
    "    \"\"\"\n",
    "    productos_recomendados, _, _ = recomendar_producto(referencia_producto, similitud, productos, top_n)\n",
    "    productos_recomendados_ids = productos_recomendados['ReferenciaProducto'].values\n",
    "\n",
    "    # Productos relevantes del test set\n",
    "    relevantes = test_set[test_set['ReferenciaProducto'] == referencia_producto]\n",
    "    relevantes_ids = relevantes['ReferenciaProducto'].values\n",
    "\n",
    "    # Calcular precisión y recall\n",
    "    interseccion = set(productos_recomendados_ids) & set(relevantes_ids)\n",
    "    precision = len(interseccion) / top_n if top_n > 0 else 0\n",
    "    recall = len(interseccion) / len(relevantes_ids) if len(relevantes_ids) > 0 else 0\n",
    "\n",
    "    return precision, recall\n",
    "\n",
    "def cobertura(recomendaciones, total_productos):\n",
    "    \"\"\"\n",
    "    Calcula la cobertura de las recomendaciones.\n",
    "    \"\"\"\n",
    "    productos_recomendados_unicos = set(recomendaciones)\n",
    "    return len(productos_recomendados_unicos) / total_productos\n",
    "\n",
    "def diversidad(recomendaciones, similitud):\n",
    "    \"\"\"\n",
    "    Calcula la diversidad de las recomendaciones.\n",
    "    \"\"\"\n",
    "    diversidades = []\n",
    "    for recs in recomendaciones.values():\n",
    "        for i in range(len(recs)):\n",
    "            for j in range(i + 1, len(recs)):\n",
    "                idx1, idx2 = recs[i], recs[j]\n",
    "                diversidades.append(1 - similitud[idx1, idx2])  # Diversidad = 1 - similitud\n",
    "\n",
    "    return sum(diversidades) / len(diversidades) if diversidades else 0"
   ]
  },
  {
   "cell_type": "code",
   "execution_count": 11,
   "metadata": {},
   "outputs": [
    {
     "name": "stdout",
     "output_type": "stream",
     "text": [
      "Precisión@5: 0.1265\n",
      "Recall@5: 0.0754\n",
      "Cobertura: 0.0694\n",
      "Diversidad: 0.0449\n"
     ]
    }
   ],
   "source": [
    "# Evaluar métricas\n",
    "top_n = 5\n",
    "precisiones = []\n",
    "recalls = []\n",
    "recomendaciones_totales = {}\n",
    "\n",
    "for idx, producto in test.iterrows():\n",
    "    referencia_producto = producto['ReferenciaProducto']\n",
    "    try:\n",
    "        # Generar recomendaciones\n",
    "        productos_recomendados, _, indices_similares = recomendar_producto(\n",
    "            referencia_producto, similitud, productos, top_n\n",
    "        )\n",
    "        recomendaciones_totales[referencia_producto] = indices_similares\n",
    "\n",
    "        # Calcular precisión y recall\n",
    "        precision, recall = precision_recall(referencia_producto, similitud, productos, test, top_n)\n",
    "        precisiones.append(precision)\n",
    "        recalls.append(recall)\n",
    "    except Exception as e:\n",
    "        # Si hay productos sin recomendaciones (por ejemplo, no están en el train set), ignorar\n",
    "        pass\n",
    "\n",
    "# Cobertura\n",
    "total_productos = len(productos)\n",
    "cobertura_global = cobertura([item for sublist in recomendaciones_totales.values() for item in sublist], total_productos)\n",
    "\n",
    "# Diversidad\n",
    "diversidad_global = diversidad(recomendaciones_totales, similitud)\n",
    "\n",
    "# Resultados finales\n",
    "print(f\"Precisión@{top_n}: {sum(precisiones) / len(precisiones):.4f}\")\n",
    "print(f\"Recall@{top_n}: {sum(recalls) / len(recalls):.4f}\")\n",
    "print(f\"Cobertura: {cobertura_global:.4f}\")\n",
    "print(f\"Diversidad: {diversidad_global:.4f}\")\n"
   ]
  }
 ],
 "metadata": {
  "kernelspec": {
   "display_name": "Python 3",
   "language": "python",
   "name": "python3"
  },
  "language_info": {
   "codemirror_mode": {
    "name": "ipython",
    "version": 3
   },
   "file_extension": ".py",
   "mimetype": "text/x-python",
   "name": "python",
   "nbconvert_exporter": "python",
   "pygments_lexer": "ipython3",
   "version": "3.11.4"
  }
 },
 "nbformat": 4,
 "nbformat_minor": 2
}
